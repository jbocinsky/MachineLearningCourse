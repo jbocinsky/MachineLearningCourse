{
 "cells": [
  {
   "cell_type": "code",
   "execution_count": 1,
   "metadata": {
    "collapsed": true
   },
   "outputs": [],
   "source": [
    "import matplotlib.pyplot as plt\n",
    "import matplotlib.image as mpimg\n",
    "import numpy as np\n",
    "from scipy.misc import imresize\n",
    "%matplotlib inline  \n",
    "from glob import glob\n",
    "import os\n",
    "import codecs\n",
    "import pandas as pd"
   ]
  },
  {
   "cell_type": "code",
   "execution_count": 2,
   "metadata": {
    "collapsed": true
   },
   "outputs": [],
   "source": [
    "def extractImageFeatures(imageName):\n",
    "    img = mpimg.imread(imageName)\n",
    "    #plt.imshow(img)\n",
    "    #plt.show()\n",
    "\n",
    "    #Enforce image to have 50 columns, this will make all the feature vectors the same length\n",
    "    numImgRows = img.shape[0]\n",
    "    img = imresize(img, [numImgRows, 50, 4])\n",
    "    #plt.imshow(img)\n",
    "    #plt.show()\n",
    "    \n",
    "    #We only need the RGB values, not the Alpha value for transparency which is the 4th element in the 3rd dimension\n",
    "    imgR = img[:,:,0] \n",
    "    imgG = img[:,:,1]\n",
    "    imgB = img[:,:,2]\n",
    "\n",
    "    #Take the averave across each column to create the feature vector\n",
    "    avgR = np.mean(imgR, axis=0)\n",
    "    avgG = np.mean(imgG, axis=0)\n",
    "    avgB = np.mean(imgB, axis=0)\n",
    "\n",
    "    #Piece together one long feature vector\n",
    "    avgRGB = np.concatenate([avgR, avgG, avgB])\n",
    "    #print(avgRGB)\n",
    "    \n",
    "    return avgRGB\n",
    "\n",
    "\n",
    "\n",
    "def saveData(data):\n",
    "    df = pd.DataFrame(data)\n",
    "    csvName = \"spectroscopeData.csv\"\n",
    "    df.to_csv(csvName, index=False)\n",
    "    print(\"Saved dataset to file:\", csvName)\n",
    "    "
   ]
  },
  {
   "cell_type": "code",
   "execution_count": 3,
   "metadata": {},
   "outputs": [
    {
     "name": "stdout",
     "output_type": "stream",
     "text": [
      "Reading files in folder: CeilingLight\n",
      "     ceilingLight1.JPG\n",
      "     ceilingLight2.JPG\n",
      "     ceilingLight3.JPG\n",
      "Reading files in folder: ExitSignLight\n",
      "     exitSign1.JPG\n",
      "     exitSign2.JPG\n",
      "     exitSign3.JPG\n",
      "     exitSign4.JPG\n",
      "Reading files in folder: WhiteBoardLight\n",
      "     whiteBoard1.JPG\n",
      "     whiteBoard2.JPG\n",
      "     whiteBoard3.JPG\n",
      "     whiteBoard4.JPG\n",
      "Saved dataset to file: spectroscopeData.csv\n"
     ]
    },
    {
     "name": "stderr",
     "output_type": "stream",
     "text": [
      "C:\\Users\\James\\Anaconda3\\lib\\site-packages\\scipy\\misc\\pilutil.py:482: FutureWarning: Conversion of the second argument of issubdtype from `int` to `np.signedinteger` is deprecated. In future, it will be treated as `np.int32 == np.dtype(int).type`.\n",
      "  if issubdtype(ts, int):\n",
      "C:\\Users\\James\\Anaconda3\\lib\\site-packages\\scipy\\misc\\pilutil.py:485: FutureWarning: Conversion of the second argument of issubdtype from `float` to `np.floating` is deprecated. In future, it will be treated as `np.float64 == np.dtype(float).type`.\n",
      "  elif issubdtype(type(size), float):\n"
     ]
    }
   ],
   "source": [
    "check = 0\n",
    "paths = glob('*/')\n",
    "paths = [p[:-1] for p in paths]\n",
    "\n",
    "for folder in paths:\n",
    "    \n",
    "    print('Reading files in folder:', folder)\n",
    "    cwd = os.getcwd()\n",
    "    os.chdir(cwd + \"\\\\\" + folder)\n",
    "    cwd = os.getcwd()\n",
    "    \n",
    "    #Read in all files in this folder\n",
    "    for root, dirs, files in os.walk(\".\"):  \n",
    "        for filename in files:\n",
    "            print('     ' + filename)\n",
    "            imagePath = cwd + '\\\\' + filename\n",
    "            imageAvgRGB = extractImageFeatures(imagePath)\n",
    "            dataTemp = np.hstack((imageAvgRGB, filename)) \n",
    "            dataTemp = np.hstack((dataTemp, folder))\n",
    "            #print(dataTemp)\n",
    "            \n",
    "            if(check == 0):\n",
    "                check = 1\n",
    "                dataList = dataTemp\n",
    "            else:\n",
    "                dataList = np.vstack((dataList, dataTemp))\n",
    "            \n",
    "    os.chdir('..')\n",
    "\n",
    "saveData(dataList)"
   ]
  },
  {
   "cell_type": "code",
   "execution_count": null,
   "metadata": {
    "collapsed": true
   },
   "outputs": [],
   "source": []
  }
 ],
 "metadata": {
  "kernelspec": {
   "display_name": "Python 3",
   "language": "python",
   "name": "python3"
  },
  "language_info": {
   "codemirror_mode": {
    "name": "ipython",
    "version": 3
   },
   "file_extension": ".py",
   "mimetype": "text/x-python",
   "name": "python",
   "nbconvert_exporter": "python",
   "pygments_lexer": "ipython3",
   "version": "3.6.5"
  }
 },
 "nbformat": 4,
 "nbformat_minor": 2
}
