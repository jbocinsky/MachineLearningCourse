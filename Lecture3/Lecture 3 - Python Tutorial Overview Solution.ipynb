{
 "cells": [
  {
   "cell_type": "markdown",
   "metadata": {},
   "source": [
    "## Lecture 3"
   ]
  },
  {
   "cell_type": "markdown",
   "metadata": {},
   "source": [
    "**Python & Jupyter Notebooks**\n",
    "\n",
    "Ask students if everyone was able to download and run jupyter notebooks okay. If not, show them how to launch a notebook.\n",
    "\n",
    "Go over:\n",
    "\n",
    "1. What is Python?\n",
    "\n",
    "2. What is a Jupyter notebook? How can it be used? \n",
    "    - What is a cell (code cell, markdown cell)\n",
    "    - How does code run (Sequentially, one line at a time)\n",
    "    - How is your python code output displayed\n",
    "    \n",
    "\n",
    "Ask students how the tutorial went and if there are any of the tutorials they'd like me to explain or go through. Give students time for each tutorial and go over each exercise after each tutorial.\n",
    "\n",
    "https://www.learnpython.org/en/Welcome\n",
    "\n",
    "Tutorials:\n",
    "1. Hello, World!\n",
    "2. Variables and Types\n",
    "3. Lists\n",
    "4. Basic Operators\n",
    "5. Loops\n",
    "\n"
   ]
  },
  {
   "cell_type": "markdown",
   "metadata": {},
   "source": [
    "### What is a numpy array?"
   ]
  },
  {
   "cell_type": "markdown",
   "metadata": {},
   "source": [
    "The numpy array is very similar to a list (Explained in tutorial) but it has additional features.\n",
    "    You can use built in methods that are available in numpy like sort\n",
    "    \n",
    "    Example:\n",
    "    \n",
    "    "
   ]
  },
  {
   "cell_type": "code",
   "execution_count": 1,
   "metadata": {
    "collapsed": true
   },
   "outputs": [],
   "source": [
    "import numpy as np\n",
    "#https://docs.scipy.org/doc/numpy/reference/generated/numpy.ndarray.html"
   ]
  },
  {
   "cell_type": "code",
   "execution_count": 2,
   "metadata": {},
   "outputs": [
    {
     "name": "stdout",
     "output_type": "stream",
     "text": [
      "[  5.    2.   -8.  100.    0.3]\n"
     ]
    }
   ],
   "source": [
    "myNumpyArray = np.array([5, 2, -8, 100, .3])\n",
    "print(myNumpyArray)"
   ]
  },
  {
   "cell_type": "code",
   "execution_count": 9,
   "metadata": {},
   "outputs": [
    {
     "name": "stdout",
     "output_type": "stream",
     "text": [
      "[ -8.    0.3   2.    5.  100. ]\n"
     ]
    }
   ],
   "source": [
    "sortedArray = np.sort(myNumpyArray)\n",
    "print(sortedArray)"
   ]
  },
  {
   "cell_type": "code",
   "execution_count": 4,
   "metadata": {},
   "outputs": [
    {
     "name": "stdout",
     "output_type": "stream",
     "text": [
      "[-8.   0.3  2. ]\n"
     ]
    }
   ],
   "source": [
    "#To get the smallest take the first k elements from you numpy array\n",
    "k = 3\n",
    "kSmallest = sortedArray[0:k]\n",
    "print(kSmallest)"
   ]
  },
  {
   "cell_type": "markdown",
   "metadata": {},
   "source": [
    "### Exercise 1:\n",
    "Calculate the distance between 2 (2-D) points. You need to do this using the Euclidean distance formula.\n",
    "\n",
    "point1: (8,5)\n",
    "\n",
    "point2: (5,9)\n",
    "\n"
   ]
  },
  {
   "cell_type": "markdown",
   "metadata": {},
   "source": [
    "#### Solution:"
   ]
  },
  {
   "cell_type": "code",
   "execution_count": 5,
   "metadata": {},
   "outputs": [
    {
     "name": "stdout",
     "output_type": "stream",
     "text": [
      "5.0\n"
     ]
    }
   ],
   "source": [
    "dist = ((8-5)**2 + (5-9)**2)**(1/2)\n",
    "print(dist)"
   ]
  },
  {
   "cell_type": "markdown",
   "metadata": {},
   "source": [
    "### Exercise 2:"
   ]
  },
  {
   "cell_type": "markdown",
   "metadata": {},
   "source": [
    "Given the numbers: [15, 20, 5, 22, 60, 35, 30, 18], sort them from smallest to largest and print out the k smallest, where k = 1,2,3?"
   ]
  },
  {
   "cell_type": "markdown",
   "metadata": {},
   "source": [
    "#### Solution:"
   ]
  },
  {
   "cell_type": "code",
   "execution_count": 6,
   "metadata": {},
   "outputs": [
    {
     "name": "stdout",
     "output_type": "stream",
     "text": [
      "[5]\n",
      "[ 5 15]\n",
      "[ 5 15 18]\n"
     ]
    }
   ],
   "source": [
    "myArray = np.array([15, 20, 5, 22, 60, 35, 30, 18])\n",
    "sorted = np.sort(myArray)\n",
    "\n",
    "kSmallest = sorted[0:1]\n",
    "print(kSmallest)\n",
    "\n",
    "kSmallest = sorted[0:2]\n",
    "print(kSmallest)\n",
    "\n",
    "kSmallest = sorted[0:3]\n",
    "print(kSmallest)\n"
   ]
  },
  {
   "cell_type": "markdown",
   "metadata": {},
   "source": [
    "### Exercise 3:"
   ]
  },
  {
   "cell_type": "markdown",
   "metadata": {},
   "source": [
    "Given a numpy array of training data, use a for loop to subtract each element of the training data by a test data point. \n",
    "\n",
    "trainingData = np.array([15, 20, 5, 22, 60, 35, 30, 18])\n",
    "\n",
    "testDataPoint = 12"
   ]
  },
  {
   "cell_type": "markdown",
   "metadata": {},
   "source": [
    "#### Solution:"
   ]
  },
  {
   "cell_type": "code",
   "execution_count": 7,
   "metadata": {},
   "outputs": [
    {
     "name": "stdout",
     "output_type": "stream",
     "text": [
      "3\n",
      "8\n",
      "-7\n",
      "10\n",
      "48\n",
      "23\n",
      "18\n",
      "6\n",
      "[ 3  8 -7 10 48 23 18  6]\n"
     ]
    }
   ],
   "source": [
    "trainingData = np.array([15, 20, 5, 22, 60, 35, 30, 18])\n",
    "testDataPoint = 12\n",
    "\n",
    "for i in range(np.size(trainingData)):\n",
    "    element = trainingData[i]\n",
    "    \n",
    "    print(element - testDataPoint)\n",
    "    \n",
    "print(trainingData - testDataPoint)"
   ]
  },
  {
   "cell_type": "markdown",
   "metadata": {},
   "source": [
    "** Coding basics **\n",
    "\n",
    "Go over: \n",
    "\n",
    "1. Comments in code\n",
    "\n",
    "2. Functions, why they are useful\n",
    "\n",
    "3. Debugging code\n",
    "    - Looking at errors\n",
    "        - Syntax - how the code is written\n",
    "        - Run time - occurs when the code is running\n",
    "    - Looking at variables\n",
    "        - printing the values of variables while code is running can be very useful\n",
    "    - Write one line of code at a time\n",
    "        - test the code to make sure it is doing what you want\n"
   ]
  }
 ],
 "metadata": {
  "kernelspec": {
   "display_name": "Python 3",
   "language": "python",
   "name": "python3"
  },
  "language_info": {
   "codemirror_mode": {
    "name": "ipython",
    "version": 3
   },
   "file_extension": ".py",
   "mimetype": "text/x-python",
   "name": "python",
   "nbconvert_exporter": "python",
   "pygments_lexer": "ipython3",
   "version": "3.6.2"
  }
 },
 "nbformat": 4,
 "nbformat_minor": 2
}
