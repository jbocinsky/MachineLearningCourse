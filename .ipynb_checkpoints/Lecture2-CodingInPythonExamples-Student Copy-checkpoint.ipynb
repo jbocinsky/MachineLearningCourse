{
 "cells": [
  {
   "cell_type": "markdown",
   "metadata": {},
   "source": [
    "## Lecture 2 Material"
   ]
  },
  {
   "cell_type": "markdown",
   "metadata": {},
   "source": [
    "** Coding examples **\n",
    "\n",
    "For fun coding exercise:\n",
    "\n",
    "1. Fizz Buzz coding exercise. Code the following counting game. Count from 1 to 100, but\n",
    "    - If the current number is divisible by 3 - print fizz\n",
    "    - If the current number is divisible by 5 - print buzz\n",
    "    - If the current number is divisible by both 3 and 5 - print fizz buzz\n",
    "    - Otherwise print out the number\n",
    "    "
   ]
  },
  {
   "cell_type": "markdown",
   "metadata": {
    "collapsed": true
   },
   "source": [
    "## 1. Fizz Buzz"
   ]
  },
  {
   "cell_type": "code",
   "execution_count": 1,
   "metadata": {},
   "outputs": [],
   "source": [
    "#Write your code here:"
   ]
  }
 ],
 "metadata": {
  "kernelspec": {
   "display_name": "Python 3",
   "language": "python",
   "name": "python3"
  },
  "language_info": {
   "codemirror_mode": {
    "name": "ipython",
    "version": 3
   },
   "file_extension": ".py",
   "mimetype": "text/x-python",
   "name": "python",
   "nbconvert_exporter": "python",
   "pygments_lexer": "ipython3",
   "version": "3.6.2"
  }
 },
 "nbformat": 4,
 "nbformat_minor": 2
}
