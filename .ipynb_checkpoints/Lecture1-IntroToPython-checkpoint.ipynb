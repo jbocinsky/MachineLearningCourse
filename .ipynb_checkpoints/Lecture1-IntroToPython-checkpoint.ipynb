{
 "cells": [
  {
   "cell_type": "markdown",
   "metadata": {
    "collapsed": true
   },
   "source": [
    "## This will be an announcement for the students\n",
    "**Installing Python, Jupyter, and Libraries**\n",
    "\n",
    "Python comes in two basic varietires right now, version 2.x and version 3.x. We will be using version 3.6 for the class. The two versions are not completely compatible, so make sure to use Python 3.6 for class.\n",
    "\n",
    "You should use the Anaconda distribution of Python, even if Python is already installed on your system. This is because the Anaconda distribution of Python comes with almost all of the libraries and software that we will need in this class (Jupyter, matplotlib, scipy, etc.)\n",
    "\n",
    "You can download the Anaconda installer for Windows, maxOS, and Linux at the following link (be sure to use Python 3.6 or 3.7):\n",
    "\n",
    "https://www.anaconda.com/download/\n",
    "\n",
    "When installing, there is an option to add Anaconda to your path, please do so."
   ]
  }
 ],
 "metadata": {
  "kernelspec": {
   "display_name": "Python 3",
   "language": "python",
   "name": "python3"
  },
  "language_info": {
   "codemirror_mode": {
    "name": "ipython",
    "version": 3
   },
   "file_extension": ".py",
   "mimetype": "text/x-python",
   "name": "python",
   "nbconvert_exporter": "python",
   "pygments_lexer": "ipython3",
   "version": "3.6.2"
  }
 },
 "nbformat": 4,
 "nbformat_minor": 2
}
