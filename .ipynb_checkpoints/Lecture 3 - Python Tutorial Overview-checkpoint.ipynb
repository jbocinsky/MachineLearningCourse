{
 "cells": [
  {
   "cell_type": "markdown",
   "metadata": {
    "collapsed": true
   },
   "source": [
    "## This will be an announcement for the students\n",
    "**Installing Python, Jupyter, and Libraries**\n",
    "\n",
    "Python comes in two basic varietires right now, version 2.x and version 3.x. We will be using version 3.6 for the class. The two versions are not completely compatible, so make sure to use Python 3.6 for class.\n",
    "\n",
    "You should use the Anaconda distribution of Python, even if Python is already installed on your system. This is because the Anaconda distribution of Python comes with almost all of the libraries and software that we will need in this class (Jupyter, matplotlib, scipy, etc.)\n",
    "\n",
    "You can download the Anaconda installer for Windows, maxOS, and Linux at the following link (be sure to use Python 3.6 or 3.7):\n",
    "\n",
    "https://www.anaconda.com/download/\n",
    "\n",
    "When installing, there is an option to add Anaconda to your path, please do so."
   ]
  },
  {
   "cell_type": "markdown",
   "metadata": {},
   "source": [
    "## This will be an announcement for the students\n",
    "**Tutorial**\n",
    "\n",
    "To get the most out of the course, you should complete this tutorial of python. Run through the \"Learn the Basics\" examples and complete the exercise at the end of each. You are expected to complete the tutorials from \"Hello, World!\" until \"Functions\". \n",
    "\n",
    "https://www.learnpython.org/"
   ]
  },
  {
   "cell_type": "markdown",
   "metadata": {},
   "source": [
    "## Lecture 1 material"
   ]
  },
  {
   "cell_type": "markdown",
   "metadata": {},
   "source": [
    "**Python & Jupyter Notebooks**\n",
    "\n",
    "Ask students if everyone was able to download and run jupyter notebooks okay. If not, show them how to launch a notebook.\n",
    "\n",
    "Go over:\n",
    "\n",
    "1. What is Python?\n",
    "\n",
    "2. What is a Jupyter notebook? How can it be used? \n",
    "    - What is a cell\n",
    "    - How does code run (Sequentially, one line at a time)\n",
    "    - How is your python code output displayed\n",
    "    \n",
    "\n",
    "\n",
    "\n"
   ]
  },
  {
   "cell_type": "markdown",
   "metadata": {},
   "source": [
    "** Coding basics **\n",
    "\n",
    "Ask students how the tutorial went and if there are any of the tutorials they'd like me to explain or go through.\n",
    "\n",
    "Tutorials:\n",
    "1. Hello, World!\n",
    "2. Variables and Types\n",
    "3. Lists\n",
    "4. Basic Operators\n",
    "5. String Formatting\n",
    "6. Basic String Operations\n",
    "7. Conditions\n",
    "8. Loops\n",
    "9. Functions\n",
    "\n",
    "Go over: \n",
    "\n",
    "1. Comments in code\n",
    "\n",
    "2. Functions, why they are useful\n",
    "\n",
    "3. Debugging code\n",
    "    - Looking at errors\n",
    "        - Syntax - how the code is written\n",
    "        - Run time - occurs when the code is running\n",
    "    - Looking at variables\n",
    "        - printing the values of variables while code is running can be very useful\n"
   ]
  },
  {
   "cell_type": "code",
   "execution_count": null,
   "metadata": {
    "collapsed": true
   },
   "outputs": [],
   "source": []
  },
  {
   "cell_type": "code",
   "execution_count": null,
   "metadata": {
    "collapsed": true
   },
   "outputs": [],
   "source": []
  }
 ],
 "metadata": {
  "kernelspec": {
   "display_name": "Python 3",
   "language": "python",
   "name": "python3"
  },
  "language_info": {
   "codemirror_mode": {
    "name": "ipython",
    "version": 3
   },
   "file_extension": ".py",
   "mimetype": "text/x-python",
   "name": "python",
   "nbconvert_exporter": "python",
   "pygments_lexer": "ipython3",
   "version": "3.6.2"
  }
 },
 "nbformat": 4,
 "nbformat_minor": 2
}
