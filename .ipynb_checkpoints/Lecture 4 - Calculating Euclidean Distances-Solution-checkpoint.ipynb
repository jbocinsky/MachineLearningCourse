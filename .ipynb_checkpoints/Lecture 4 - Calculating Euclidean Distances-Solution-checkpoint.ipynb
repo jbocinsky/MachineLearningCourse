{
 "cells": [
  {
   "cell_type": "markdown",
   "metadata": {},
   "source": [
    "## Lecture 4"
   ]
  },
  {
   "attachments": {
    "image.png": {
     "image/png": "[encoded data removed]"
    }
   },
   "cell_type": "markdown",
   "metadata": {},
   "source": [
    "1. Euclidean Distance\n",
    "    - The Euclidean distance between two points (p and q) in n dimensional space:\n",
    "    ![title](images/EuclideanDistanceFormula.PNG)\n",
    "    \n",
    "    - Euclidean distance in 2D space is like calculating the distance between two points using the pythagorean theorem\n",
    "    ![image.png](attachment:image.png)\n",
    "    \n",
    "    - Using Euclidean distance equation in 2D space:\n",
    "    ![title](images/Euclidean_distance_2d.png)    \n",
    "    \n",
    "    "
   ]
  },
  {
   "cell_type": "code",
   "execution_count": 1,
   "metadata": {},
   "outputs": [
    {
     "name": "stderr",
     "output_type": "stream",
     "text": [
      "UsageError: unrecognized arguments: #Allows the plots to show up in jupyter notebooks\n"
     ]
    }
   ],
   "source": [
    "import numpy as np\n",
    "import matplotlib.pyplot as plt\n",
    "from mpl_toolkits.mplot3d import Axes3D\n",
    "\n",
    "%matplotlib inline #Allows the plots to show up in jupyter notebooks"
   ]
  },
  {
   "cell_type": "markdown",
   "metadata": {},
   "source": [
    "## Euclidean Distance"
   ]
  },
  {
   "cell_type": "markdown",
   "metadata": {},
   "source": [
    "### 1D Euclidean Distance"
   ]
  },
  {
   "cell_type": "code",
   "execution_count": null,
   "metadata": {
    "collapsed": true
   },
   "outputs": [],
   "source": [
    "x1 = 2\n",
    "x2 = 5"
   ]
  },
  {
   "cell_type": "code",
   "execution_count": null,
   "metadata": {},
   "outputs": [],
   "source": [
    "#Plot our datapoints\n",
    "plt.plot((x1,x2), (0,0), 'ro')\n",
    "plt.grid(color='b', linestyle='-', linewidth=2)\n",
    "plt.axis('square')\n",
    "plt.axis([0, 7, -1, 1])\n",
    "plt.title('Two Datapoints', fontsize=14)\n",
    "plt.xlabel('Feature 1')"
   ]
  },
  {
   "cell_type": "code",
   "execution_count": null,
   "metadata": {},
   "outputs": [],
   "source": [
    "diff = x1 - x2\n",
    "print(diff)"
   ]
  },
  {
   "cell_type": "code",
   "execution_count": null,
   "metadata": {},
   "outputs": [],
   "source": [
    "diffSquared = diff**2\n",
    "print(diffSquared)"
   ]
  },
  {
   "cell_type": "code",
   "execution_count": null,
   "metadata": {},
   "outputs": [],
   "source": [
    "dist = np.sqrt(diffSquared)\n",
    "print(dist)"
   ]
  },
  {
   "cell_type": "code",
   "execution_count": null,
   "metadata": {},
   "outputs": [],
   "source": [
    "#All commands in one line\n",
    "dist = np.sqrt((x1 - x2)**2)  \n",
    "print(dist)"
   ]
  },
  {
   "cell_type": "markdown",
   "metadata": {},
   "source": [
    "### 2D Euclidean Distance"
   ]
  },
  {
   "cell_type": "code",
   "execution_count": null,
   "metadata": {
    "collapsed": true
   },
   "outputs": [],
   "source": [
    "#Individual Values\n",
    "x1 = 2\n",
    "y1 = 2\n",
    "\n",
    "x2 = 5\n",
    "y2 = 6\n"
   ]
  },
  {
   "cell_type": "markdown",
   "metadata": {},
   "source": [
    "These two data points if viewed like the pythagorean theroem forms a 3 x 4 x 5 triangle. So we know the calculation should give us a result of 5"
   ]
  },
  {
   "cell_type": "code",
   "execution_count": null,
   "metadata": {
    "collapsed": true
   },
   "outputs": [],
   "source": [
    "#Combine datapoints\n",
    "xValues = np.array([x1, x2])\n",
    "yValues = np.array([y1, y2])"
   ]
  },
  {
   "cell_type": "code",
   "execution_count": null,
   "metadata": {},
   "outputs": [],
   "source": [
    "#Plot our datapoints\n",
    "plt.plot(xValues, yValues, 'ro')\n",
    "plt.grid(color='b', linestyle='-', linewidth=2)\n",
    "plt.axis('square')\n",
    "plt.axis([0,7,0,7])\n",
    "plt.title('Two Datapoints in 2D', fontsize=14)\n",
    "plt.xlabel('Feature 1')\n",
    "plt.ylabel('Feature 2')"
   ]
  },
  {
   "cell_type": "code",
   "execution_count": null,
   "metadata": {},
   "outputs": [],
   "source": [
    "#Creating a vector of values\n",
    "vec1 = np.array([x1, y1])\n",
    "vec2 = np.array([x2, y2])\n",
    "vec1.shape"
   ]
  },
  {
   "cell_type": "code",
   "execution_count": null,
   "metadata": {},
   "outputs": [],
   "source": [
    "#Show datapoint information\n",
    "print(vec1)"
   ]
  },
  {
   "cell_type": "code",
   "execution_count": null,
   "metadata": {},
   "outputs": [],
   "source": [
    "#Show datapoint information\n",
    "print(vec2)"
   ]
  },
  {
   "cell_type": "code",
   "execution_count": null,
   "metadata": {},
   "outputs": [],
   "source": [
    "diff = vec1 - vec2\n",
    "print(diff)"
   ]
  },
  {
   "cell_type": "code",
   "execution_count": null,
   "metadata": {},
   "outputs": [],
   "source": [
    "diffSquared = diff**2\n",
    "print(diffSquared)"
   ]
  },
  {
   "cell_type": "code",
   "execution_count": null,
   "metadata": {},
   "outputs": [],
   "source": [
    "valuesSummed = np.sum(diffSquared)\n",
    "print(valuesSummed)"
   ]
  },
  {
   "cell_type": "code",
   "execution_count": null,
   "metadata": {},
   "outputs": [],
   "source": [
    "dist = np.sqrt(valuesSummed)\n",
    "print(dist)"
   ]
  },
  {
   "cell_type": "code",
   "execution_count": null,
   "metadata": {},
   "outputs": [],
   "source": [
    "#All commands in one line\n",
    "dist = np.sqrt(np.sum((vec1 - vec2)**2))  \n",
    "print(dist)"
   ]
  },
  {
   "cell_type": "markdown",
   "metadata": {},
   "source": [
    "### 3D Euclidean Distance"
   ]
  },
  {
   "cell_type": "code",
   "execution_count": null,
   "metadata": {
    "collapsed": true
   },
   "outputs": [],
   "source": [
    "#Individual Values\n",
    "x1 = 2\n",
    "y1 = 2\n",
    "\n",
    "x2 = 5\n",
    "y2 = 6\n",
    "\n",
    "z1 = 3\n",
    "z2 = 8"
   ]
  },
  {
   "cell_type": "code",
   "execution_count": null,
   "metadata": {
    "collapsed": true
   },
   "outputs": [],
   "source": [
    "#Combine datapoints\n",
    "xValues = np.array([x1, x2])\n",
    "yValues = np.array([y1, y2])\n",
    "zValues = np.array([z1, z2])"
   ]
  },
  {
   "cell_type": "code",
   "execution_count": null,
   "metadata": {},
   "outputs": [],
   "source": [
    "#Plot our datapoints\n",
    "fig = plt.figure()\n",
    "ax = fig.add_subplot(111, projection='3d')\n",
    "ax.scatter(xValues, yValues, zValues, 'ro')\n",
    "\n",
    "ax.set_title('Two Datapoints in 3D')\n",
    "ax.set_xlabel('Feature 1')\n",
    "ax.set_ylabel('Feature 2')\n",
    "ax.set_zlabel('Feature 3')"
   ]
  },
  {
   "cell_type": "code",
   "execution_count": null,
   "metadata": {
    "collapsed": true
   },
   "outputs": [],
   "source": [
    "vec1 = np.array([x1, y1, z1])\n",
    "vec2 = np.array([x2, y2, z2])"
   ]
  },
  {
   "cell_type": "code",
   "execution_count": null,
   "metadata": {},
   "outputs": [],
   "source": [
    "diff = vec1 - vec2\n",
    "print(diff)"
   ]
  },
  {
   "cell_type": "code",
   "execution_count": null,
   "metadata": {},
   "outputs": [],
   "source": [
    "diffSquared = diff**2\n",
    "print(diffSquared)"
   ]
  },
  {
   "cell_type": "code",
   "execution_count": null,
   "metadata": {},
   "outputs": [],
   "source": [
    "valuesSummed = np.sum(diffSquared)\n",
    "print(valuesSummed)"
   ]
  },
  {
   "cell_type": "code",
   "execution_count": null,
   "metadata": {},
   "outputs": [],
   "source": [
    "dist = np.sqrt(valuesSummed)\n",
    "print(dist)"
   ]
  },
  {
   "cell_type": "code",
   "execution_count": null,
   "metadata": {},
   "outputs": [],
   "source": [
    "#All commands in one line\n",
    "dist = np.sqrt(np.sum((vec1 - vec2)**2))  \n",
    "print(dist)"
   ]
  },
  {
   "cell_type": "markdown",
   "metadata": {},
   "source": [
    "### Exercise 1"
   ]
  },
  {
   "cell_type": "markdown",
   "metadata": {},
   "source": [
    "Work with your team to calculate the Euclidean distance between 2 datapoints in the 5 dimensional space.\n",
    "\n",
    "Plot the first two dimensions of the data\n",
    "\n",
    "    vec1: (5,2,4,7,2)\n",
    "    vec2: (5,7,2,6,7)\n",
    "    \n",
    "When you are done, please have a TA check you off. Only 1 team member needs to show us the answer. "
   ]
  },
  {
   "cell_type": "markdown",
   "metadata": {},
   "source": [
    "#### Solution:"
   ]
  },
  {
   "cell_type": "code",
   "execution_count": null,
   "metadata": {},
   "outputs": [],
   "source": [
    "vec1 = np.array([5,2,4,7,2])\n",
    "vec2 = np.array([5,7,2,6,7])\n",
    "\n",
    "xValues = np.array([vec1[0], vec2[0]])\n",
    "yValues = np.array([vec1[1], vec2[1]])\n",
    "\n",
    "#Plot our datapoints\n",
    "plt.plot(xValues, yValues, 'ro')\n",
    "plt.grid(color='b', linestyle='-', linewidth=2)\n",
    "plt.axis('square')\n",
    "plt.axis([0, 10, 0, 10])\n",
    "plt.title('Two Datapoints in 2D', fontsize=14)\n",
    "plt.xlabel('Feature 1')\n",
    "plt.ylabel('Feature 2')\n",
    "\n",
    "dist = np.sqrt(np.sum((vec1 - vec2)**2))\n",
    "print('Euclidean Distance:', dist)"
   ]
  },
  {
   "cell_type": "markdown",
   "metadata": {},
   "source": [
    "### Exercise 2"
   ]
  },
  {
   "cell_type": "markdown",
   "metadata": {},
   "source": [
    "Plot the following 5 points, and calculate the distance between every one of them.\n",
    "\n",
    "(2,2) (5,6) (3,4) (0,1) (2,5)\n",
    "\n",
    "Hint: Use 2 for loops to calculate\n",
    "\n",
    "Bonus: list the minimus distance for each points.\n",
    "\n",
    "When you are done, please have a TA check you off. Only 1 team member needs to show us the answer. "
   ]
  },
  {
   "cell_type": "markdown",
   "metadata": {},
   "source": [
    "#### Solution:"
   ]
  },
  {
   "cell_type": "code",
   "execution_count": null,
   "metadata": {},
   "outputs": [],
   "source": [
    "myArray = np.array([[2,2], [5,6], [3,4], [0,1], [2,5]])\n",
    "\n",
    "#Get x values and y values from myArray\n",
    "xValues = myArray[:,0]\n",
    "yValues = myArray[:,1]\n",
    "\n",
    "#Plot our datapoints\n",
    "plt.plot(xValues, yValues, 'ro')\n",
    "plt.grid(color='b', linestyle='-', linewidth=2)\n",
    "plt.axis('square')\n",
    "plt.axis([0, 7, 0, 7])\n",
    "plt.title('Five Datapoints in 2D', fontsize=14)\n",
    "plt.xlabel('Feature 1')\n",
    "plt.ylabel('Feature 2')\n",
    "\n",
    "#Initialize distance matrixes, will fill them in as we go\n",
    "distances = np.zeros((5,5))\n",
    "sortedDistances = np.zeros((5,5))\n",
    "\n",
    "for i in range(myArray.shape[0]):\n",
    "    element1 = myArray[i,:]\n",
    "    \n",
    "    for j in range(myArray.shape[0]):\n",
    "        element2 = myArray[j,:]\n",
    "        dist = np.sqrt(np.sum((element1 - element2)**2))\n",
    "        distances[i,j] = dist\n",
    "        \n",
    "            \n",
    "    #Sort the ith row of the distances and store them in that row\n",
    "    sortedDistances[i,:] = np.sort(distances[i,:])\n",
    "\n",
    "print('All distances:')\n",
    "print(distances, '\\n')\n",
    "print('Sorted distances:')\n",
    "print(sortedDistances, '\\n')\n",
    "print('Minimum Distances:')\n",
    "print(sortedDistances[:,1]) #Print the minimum in each row, excluding the zeros from calculating distance to itself\n"
   ]
  },
  {
   "cell_type": "code",
   "execution_count": null,
   "metadata": {
    "collapsed": true
   },
   "outputs": [],
   "source": []
  }
 ],
 "metadata": {
  "kernelspec": {
   "display_name": "Python 3",
   "language": "python",
   "name": "python3"
  },
  "language_info": {
   "codemirror_mode": {
    "name": "ipython",
    "version": 3
   },
   "file_extension": ".py",
   "mimetype": "text/x-python",
   "name": "python",
   "nbconvert_exporter": "python",
   "pygments_lexer": "ipython3",
   "version": "3.6.2"
  }
 },
 "nbformat": 4,
 "nbformat_minor": 2
}
