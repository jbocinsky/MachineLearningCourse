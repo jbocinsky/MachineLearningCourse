{
 "cells": [
  {
   "cell_type": "markdown",
   "metadata": {},
   "source": [
    "## Lecture 3"
   ]
  },
  {
   "cell_type": "markdown",
   "metadata": {},
   "source": [
    "**Python & Jupyter Notebooks**\n",
    "\n",
    "How to use Jupyter Notebooks\n",
    "\n",
    "1. What is Python?\n",
    "\n",
    "2. What is a Jupyter notebook? How can it be used? \n",
    "    - What is a cell?\n",
    "    - How does code run?\n",
    "    - How is your python code output displayed?\n",
    "\n"
   ]
  },
  {
   "cell_type": "markdown",
   "metadata": {},
   "source": [
    "Tutorial:\n",
    "https://www.learnpython.org/en/Welcome\n",
    "\n",
    "Tutorials:\n",
    "1. Hello, World!\n",
    "2. Variables and Types\n",
    "3. Lists\n",
    "4. Basic Operators\n",
    "5. Loops"
   ]
  },
  {
   "cell_type": "markdown",
   "metadata": {},
   "source": [
    "### Numpy Arrays"
   ]
  },
  {
   "cell_type": "markdown",
   "metadata": {},
   "source": [
    "A numpy array is very similar to a list (Explained in tutorial) but it has additional features. Methods and other useful features can be found here:\n",
    "\n",
    "https://docs.scipy.org/doc/numpy/reference/generated/numpy.ndarray.html    \n",
    " \n",
    "You can use built in methods that are available in numpy like sort.\n",
    "\n",
    "Sort example:"
   ]
  },
  {
   "cell_type": "code",
   "execution_count": 1,
   "metadata": {},
   "outputs": [
    {
     "name": "stdout",
     "output_type": "stream",
     "text": [
      "[  5.    2.   -8.  100.    0.3]\n"
     ]
    }
   ],
   "source": [
    "import numpy as np\n",
    "\n",
    "myNumpyArray = np.array([5, 2, -8, 100, .3])\n",
    "print(myNumpyArray)"
   ]
  },
  {
   "cell_type": "markdown",
   "metadata": {},
   "source": [
    "### Exercise 1:\n",
    "Calculate the distance between 2 (2-D) points. You need to do this using the Euclidean distance formula.\n",
    "\n",
    "point1: (8,5)\n",
    "\n",
    "point2: (5,9)\n",
    "\n"
   ]
  },
  {
   "cell_type": "markdown",
   "metadata": {},
   "source": [
    "### Exercise 2:"
   ]
  },
  {
   "cell_type": "markdown",
   "metadata": {},
   "source": [
    "Given the numbers: [15, 20, 5, 22, 60, 35, 30, 18], sort them from smallest to largest and print out the k smallest, where k = 1,2,3?"
   ]
  },
  {
   "cell_type": "markdown",
   "metadata": {},
   "source": [
    "### Exercise 3:"
   ]
  },
  {
   "cell_type": "markdown",
   "metadata": {},
   "source": [
    "Given a numpy array of training data, use a for loop to subtract each element of the training data by a test data point. \n",
    "\n",
    "trainingData = np.array([15, 20, 5, 22, 60, 35, 30, 18])\n",
    "\n",
    "testDataPoint = 12"
   ]
  },
  {
   "cell_type": "markdown",
   "metadata": {},
   "source": [
    "** Coding basics **\n",
    "\n",
    "1. Commenting code\n",
    "\n",
    "2. Functions, why they are useful?\n",
    "\n",
    "3. Debugging code\n",
    "    - Looking at errors\n",
    "        - Syntax - how the code is written\n",
    "        - Run time - occurs when the code is running\n",
    "    - Looking at variables\n",
    "        - printing the values of variables while code is running can be very useful\n",
    "    - Write one line of code at a time\n",
    "        - test the code to make sure it is doing what you want\n"
   ]
  }
 ],
 "metadata": {
  "kernelspec": {
   "display_name": "Python 3",
   "language": "python",
   "name": "python3"
  },
  "language_info": {
   "codemirror_mode": {
    "name": "ipython",
    "version": 3
   },
   "file_extension": ".py",
   "mimetype": "text/x-python",
   "name": "python",
   "nbconvert_exporter": "python",
   "pygments_lexer": "ipython3",
   "version": "3.6.2"
  }
 },
 "nbformat": 4,
 "nbformat_minor": 2
}
